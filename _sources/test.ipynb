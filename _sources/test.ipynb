{
 "cells": [
  {
   "cell_type": "markdown",
   "metadata": {},
   "source": [
    "ipymonaco\n",
    "=========\n",
    "\n",
    "This Jupyter notebook renders Microsoft's Monaco text editor as a ipywidget widget.\n",
    "\n"
   ]
  },
  {
   "cell_type": "markdown",
   "metadata": {},
   "source": [
    "## Render Microsoft Monaco as a Jupyter ipywidget\n",
    "Before you can run the following cell, run the prior installation steps and **refresh this page with the browser's cache disabled**."
   ]
  },
  {
   "cell_type": "code",
   "execution_count": 35,
   "metadata": {
    "_cell_guid": "79c7e3d0-c299-4dcb-8224-4455121ee9b0",
    "_uuid": "d629ff2d2480ee46fbb7e2d37f6b5fab8052498a"
   },
   "outputs": [
    {
     "data": {
      "application/vnd.jupyter.widget-view+json": {
       "model_id": "f840e7aed0de471da203f0f28eef67ae",
       "version_major": 2,
       "version_minor": 0
      },
      "text/plain": [
       "Editor(language='python', theme='vs', value=' \\ndef add(a,b):\\n    pass \\n    ')"
      ]
     },
     "metadata": {},
     "output_type": "display_data"
    },
    {
     "data": {
      "application/vnd.jupyter.widget-view+json": {
       "model_id": "d2c559ae03824891a1c7090072950449",
       "version_major": 2,
       "version_minor": 0
      },
      "text/plain": [
       "Text(value=' \\ndef add(a,b):\\n    pass \\n    ', disabled=True)"
      ]
     },
     "metadata": {},
     "output_type": "display_data"
    }
   ],
   "source": [
    "from ipymonaco import *\n",
    "import ipywidgets as widgets\n",
    "from IPython.display import display\n",
    "\n",
    "submitted_code = \"\"\" \n",
    "def add(a,b):\n",
    "    pass \n",
    "    \"\"\"\n",
    "text_widget = widgets.Text(value=submitted_code, disabled=True)\n",
    "monaco_editor = Monaco(\n",
    "    value=submitted_code, \n",
    "    theme=\"vs\", \n",
    "    language=\"python\",\n",
    "     readOnly=False)\n",
    "\n",
    "def getData(data):\n",
    "    global submitted_code \n",
    "    submitted_code = {data['changes'][0]['text']}\n",
    "\n",
    "    \n",
    "monaco_editor.onDidChangeModelContent(getData) \n",
    "display(monaco_editor, text_widget)\n"
   ]
  }
 ],
 "metadata": {
  "kernelspec": {
   "display_name": "Python 3",
   "language": "python",
   "name": "python3"
  },
  "language_info": {
   "codemirror_mode": {
    "name": "ipython",
    "version": 3
   },
   "file_extension": ".py",
   "mimetype": "text/x-python",
   "name": "python",
   "nbconvert_exporter": "python",
   "pygments_lexer": "ipython3",
   "version": "3.9.10"
  }
 },
 "nbformat": 4,
 "nbformat_minor": 4
}
