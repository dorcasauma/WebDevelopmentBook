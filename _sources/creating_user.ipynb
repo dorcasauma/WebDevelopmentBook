{
 "cells": [
  {
   "cell_type": "markdown",
   "metadata": {},
   "source": [
    "# Creating User \n",
    "\n",
    "\n",
    "On our book review we have a concept of a user. \n",
    "\n",
    "And the user is login via username and passwrd. So we need a way to know a user and his password. \n",
    "So that we can check when the user logs in and register if the user is not login in. \n",
    "\n",
    "Create a file called user.py \n",
    "\n",
    "Inside that file create a varialbe called users and assign it to an empty dictionary. \n",
    "We will store details of the user in that variable. \n",
    "\n",
    "\n",
    "Implement the functions below. \n",
    "\n",
    "And copy those functions in your user.py file. \n",
    "\n",
    "\n"
   ]
  },
  {
   "cell_type": "code",
   "execution_count": 6,
   "metadata": {
    "tags": [
     "hide-input"
    ]
   },
   "outputs": [
    {
     "name": "stdout",
     "output_type": "stream",
     "text": [
      "cwd\n"
     ]
    },
    {
     "data": {
      "application/vnd.jupyter.widget-view+json": {
       "model_id": "4d6f6201a7894cde948812de58ffd80b",
       "version_major": 2,
       "version_minor": 0
      },
      "text/plain": [
       "Editor(language='python', theme='vs', value='# This will act as our store for a start we will later convert it…"
      ]
     },
     "metadata": {},
     "output_type": "display_data"
    },
    {
     "data": {
      "application/vnd.jupyter.widget-view+json": {
       "model_id": "bcd5589f0dfc42219695954442d6411c",
       "version_major": 2,
       "version_minor": 0
      },
      "text/plain": [
       "Label(value=\"print('hello world')\")"
      ]
     },
     "metadata": {},
     "output_type": "display_data"
    }
   ],
   "source": [
    "from ipymonaco import *\n",
    "import ipywidgets as widgets\n",
    "from IPython.display import display\n",
    "import os\n",
    "cwd = os.getcwd()\n",
    "\n",
    "print(\"cwd\")\n",
    "\n",
    "user_file = open(\"../BookReviewFromScratch/without_database/user.py\", \"r\")\n",
    "submitted_code = user_file.read()\n",
    "text_widget = widgets.Label(value=\"print('hello world')\")\n",
    "monaco_editor = Monaco(\n",
    "    value=submitted_code, \n",
    "    theme=\"vs\", \n",
    "    language=\"python\",\n",
    "     readOnly=False)\n",
    "\n",
    "def getData(event=None, data=None):\n",
    "    global submitted_code \n",
    "    submitted_code = {data['changes'][0]['text']}\n",
    "    text_widget.value = str(submitted_code)\n",
    "    print(f\"submitted_code: {submitted_code}\")\n",
    "    \n",
    "monaco_editor.onDidChangeModelContent(getData) \n",
    "display(monaco_editor, text_widget)"
   ]
  }
 ],
 "metadata": {
  "interpreter": {
   "hash": "aee8b7b246df8f9039afb4144a1f6fd8d2ca17a180786b69acc140d282b71a49"
  },
  "kernelspec": {
   "display_name": "Python 3.9.10 64-bit",
   "language": "python",
   "name": "python3"
  },
  "language_info": {
   "codemirror_mode": {
    "name": "ipython",
    "version": 3
   },
   "file_extension": ".py",
   "mimetype": "text/x-python",
   "name": "python",
   "nbconvert_exporter": "python",
   "pygments_lexer": "ipython3",
   "version": "3.9.10"
  },
  "orig_nbformat": 4
 },
 "nbformat": 4,
 "nbformat_minor": 2
}
