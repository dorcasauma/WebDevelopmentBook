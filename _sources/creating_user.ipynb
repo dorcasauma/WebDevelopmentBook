{
 "cells": [
  {
   "cell_type": "markdown",
   "metadata": {},
   "source": [
    "# Creating User \n",
    "\n",
    "\n",
    "On our book review we have a concept of a user. \n",
    "\n",
    "And the user is login via username and passwrd. So we need a way to know a user and his password. \n",
    "So that we can check when the user logs in and register if the user is not login in. \n",
    "\n",
    "Implement the function below. \n",
    "Once done copy the file into your local machine. (Create a folder for this project and create a file with the name user.py)\n",
    "\n",
    "\n",
    "\n",
    "\n"
   ]
  },
  {
   "cell_type": "code",
   "execution_count": 13,
   "metadata": {
    "tags": [
     "hide-input"
    ]
   },
   "outputs": [
    {
     "data": {
      "application/vnd.jupyter.widget-view+json": {
       "model_id": "30ff3043fdf445c2841523bb1308c68b",
       "version_major": 2,
       "version_minor": 0
      },
      "text/plain": [
       "Editor(language='python', theme='vs', value='# This will act as our store for a start we will later convert it…"
      ]
     },
     "metadata": {},
     "output_type": "display_data"
    },
    {
     "data": {
      "application/vnd.jupyter.widget-view+json": {
       "model_id": "e5631943cf404aa0a211c283befecc4f",
       "version_major": 2,
       "version_minor": 0
      },
      "text/plain": [
       "Label(value=\"print('hello world')\")"
      ]
     },
     "metadata": {},
     "output_type": "display_data"
    },
    {
     "data": {
      "application/vnd.jupyter.widget-view+json": {
       "model_id": "submit_user",
       "version_major": 2,
       "version_minor": 0
      },
      "text/plain": [
       "Button(description='click me to raise an exception', layout=Layout(width='300px'), style=ButtonStyle(), _dom_c…"
      ]
     },
     "metadata": {},
     "output_type": "display_data"
    }
   ],
   "source": [
    "from ipymonaco import *\n",
    "import ipywidgets as widgets\n",
    "from IPython.display import display\n",
    "\n",
    "user_file = open(\"../BookReviewFromScratch/without_database/user.py\", \"r\")\n",
    "submitted_code = user_file.read()\n",
    "text_widget = widgets.Label(value=\"print('hello world')\")\n",
    "monaco_editor = Monaco(\n",
    "    value=submitted_code, \n",
    "    theme=\"vs\", \n",
    "    language=\"python\",\n",
    "     readOnly=False)\n",
    "\n",
    "def getData(event=None, data=None):\n",
    "    global submitted_code \n",
    "    submitted_code = {data['changes'][0]['text']}\n",
    "    text_widget.value = str(submitted_code)\n",
    "    print(f\"submitted_code: {submitted_code}\")\n",
    "    \n",
    "monaco_editor.onDidChangeModelContent(getData) \n",
    "\n",
    "\n",
    "debug_view = widgets.Output(layout={'border': '1px solid black'})\n",
    "\n",
    "@debug_view.capture(clear_output=True)\n",
    "def bad_callback(event):\n",
    "    print('This is about to explode')\n",
    "    return 1.0 / 0.0\n",
    "\n",
    "button = widgets.Button(\n",
    "    model_id=\"submit_user\",\n",
    "    id=\"mwaside\",\n",
    "    description='click me to raise an exception',\n",
    "    layout={'width': '300px'},\n",
    "    Id=\"user_button\"\n",
    ")\n",
    "button.on_click(bad_callback)\n",
    "button.add_class(\"user_submit\")\n",
    "\n",
    "display(monaco_editor, text_widget, button)"
   ]
  }
 ],
 "metadata": {
  "interpreter": {
   "hash": "aee8b7b246df8f9039afb4144a1f6fd8d2ca17a180786b69acc140d282b71a49"
  },
  "kernelspec": {
   "display_name": "Python 3.9.10 64-bit",
   "language": "python",
   "name": "python3"
  },
  "language_info": {
   "codemirror_mode": {
    "name": "ipython",
    "version": 3
   },
   "file_extension": ".py",
   "mimetype": "text/x-python",
   "name": "python",
   "nbconvert_exporter": "python",
   "pygments_lexer": "ipython3",
   "version": "3.9.10"
  },
  "orig_nbformat": 4
 },
 "nbformat": 4,
 "nbformat_minor": 2
}
